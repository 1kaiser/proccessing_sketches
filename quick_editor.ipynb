{
 "cells": [
  {
   "cell_type": "code",
   "execution_count": 1,
   "id": "dd092b68-da87-4c25-82f1-0aad3f348ad6",
   "metadata": {},
   "outputs": [
    {
     "name": "stdout",
     "output_type": "stream",
     "text": [
      "proccessing_sketches  Untitled.ipynb\n"
     ]
    }
   ],
   "source": [
    "!ls"
   ]
  },
  {
   "cell_type": "code",
   "execution_count": 6,
   "id": "1b3c1a0e-a85c-4ac5-ba1c-d248388f2575",
   "metadata": {
    "scrolled": true
   },
   "outputs": [
    {
     "data": {
      "text/plain": [
       "('proccessing_sketches/AllProjects/ag.pde', 208)"
      ]
     },
     "execution_count": 6,
     "metadata": {},
     "output_type": "execute_result"
    }
   ],
   "source": [
    "files_string = !ls proccessing_sketches/AllProjects/*.pde  # Using Jupyter's ! shell magic\n",
    "pde_files = [f for f in files_string if f] # Create list, filtering out empty strings\n",
    "pde_files[0], len(pde_files)"
   ]
  },
  {
   "cell_type": "code",
   "execution_count": 250,
   "id": "b993d81d-36f2-401f-9f54-3b49a43de73f",
   "metadata": {
    "scrolled": true
   },
   "outputs": [
    {
     "ename": "IndexError",
     "evalue": "list index out of range",
     "output_type": "error",
     "traceback": [
      "\u001b[0;31m---------------------------------------------------------------------------\u001b[0m",
      "\u001b[0;31mIndexError\u001b[0m                                Traceback (most recent call last)",
      "Cell \u001b[0;32mIn[250], line 48\u001b[0m\n\u001b[1;32m     45\u001b[0m     \u001b[38;5;28mprint\u001b[39m(\u001b[38;5;124mf\u001b[39m\u001b[38;5;124m\"\u001b[39m\u001b[38;5;124mProcessed and saved: \u001b[39m\u001b[38;5;132;01m{\u001b[39;00moutput_file_path\u001b[38;5;132;01m}\u001b[39;00m\u001b[38;5;124m\"\u001b[39m)\n\u001b[1;32m     47\u001b[0m output_dir \u001b[38;5;241m=\u001b[39m \u001b[38;5;124m\"\u001b[39m\u001b[38;5;124m/home/kaiser/sketchbook/all/test\u001b[39m\u001b[38;5;124m\"\u001b[39m \n\u001b[0;32m---> 48\u001b[0m process_pde_files(\u001b[43mpde_files\u001b[49m\u001b[43m[\u001b[49m\u001b[38;5;241;43m208\u001b[39;49m\u001b[43m]\u001b[49m, output_dir)  \u001b[38;5;66;03m# Process all files found\u001b[39;00m\n",
      "\u001b[0;31mIndexError\u001b[0m: list index out of range"
     ]
    }
   ],
   "source": [
    "import re\n",
    "import os\n",
    "import shutil\n",
    "from pathlib import Path\n",
    "\n",
    "def process_pde_files(pde_file, output_dir):\n",
    "    \"\"\"\n",
    "    Processes a list of PDE files, making the specified size and font replacements,\n",
    "    and saving the updated files in individual folders within a specified directory.\n",
    "\n",
    "    Args:\n",
    "        pde_files: A list of paths to PDE files (strings or Path objects).\n",
    "        output_dir: The directory to create subfolders and save the updated files.\n",
    "    \"\"\"\n",
    "\n",
    "    with open(pde_file, 'r') as f:\n",
    "        pde_content = f.read()\n",
    "\n",
    "    # Replace size() using regex with capture groups\n",
    "    pde_content = re.sub(r\"PFont\", r\"//PFont\", pde_content)\n",
    "    pde_content = re.sub(r\"PImage\", r\"//PImage\", pde_content)\n",
    "    pde_content = re.sub(r\"img\\.width\", r\"7860\", pde_content)\n",
    "    pde_content = re.sub(r\"img\\.height\", r\"4320\", pde_content)\n",
    "    pde_content = re.sub(r\"img\", r\"//img\", pde_content)\n",
    "\n",
    "    pde_content = re.sub(r\"image\", r\"//image\", pde_content)\n",
    "\n",
    "    pde_content = re.sub(r\"background\", r\"//background\", pde_content)\n",
    "    pde_content = re.sub(r\"size\", r\"size( 7860, 4320);//size\", pde_content)\n",
    "\n",
    "    pde_content = re.sub(r\"size\\( (\\d+), (\\d+)\\);\", r\"size( \\1/3, \\2/3);\", pde_content)\n",
    "\n",
    "    # Comment out font lines using regex\n",
    "    pde_content = re.sub(r\"font\", r\"//font\", pde_content)\n",
    "    pde_content = re.sub(r\"textFont\", r\"//textFont\", pde_content)\n",
    "\n",
    "\n",
    "    file_name = Path(pde_file).stem\n",
    "    output_folder = Path(output_dir) / file_name\n",
    "    output_folder.mkdir(parents=True, exist_ok=True)\n",
    "    output_file_path = output_folder / Path(pde_file).name\n",
    "    with open(output_file_path, 'w') as outfile:\n",
    "        outfile.write(pde_content)\n",
    "\n",
    "    print(f\"Processed and saved: {output_file_path}\")\n",
    "\n",
    "output_dir = \"/home/kaiser/sketchbook/all/test\" \n",
    "process_pde_files(pde_files[208], output_dir)  # Process all files found\n"
   ]
  },
  {
   "cell_type": "code",
   "execution_count": 7,
   "id": "7b10a73f-1822-4859-a17f-151ffb418caf",
   "metadata": {},
   "outputs": [
    {
     "name": "stdout",
     "output_type": "stream",
     "text": [
      "/home/kaiser/sketchbook/all\n"
     ]
    }
   ],
   "source": [
    "!pwd"
   ]
  }
 ],
 "metadata": {
  "kernelspec": {
   "display_name": "Python [conda env:.miniforge-num_python]",
   "language": "python",
   "name": "conda-env-.miniforge-num_python-py"
  },
  "language_info": {
   "codemirror_mode": {
    "name": "ipython",
    "version": 3
   },
   "file_extension": ".py",
   "mimetype": "text/x-python",
   "name": "python",
   "nbconvert_exporter": "python",
   "pygments_lexer": "ipython3",
   "version": "3.11.8"
  }
 },
 "nbformat": 4,
 "nbformat_minor": 5
}
